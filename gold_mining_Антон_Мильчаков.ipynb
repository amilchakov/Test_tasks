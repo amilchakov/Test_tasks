{
 "cells": [
  {
   "cell_type": "code",
   "execution_count": 59,
   "id": "12b0e3a7",
   "metadata": {},
   "outputs": [],
   "source": [
    "import pandas as pd\n",
    "import matplotlib.pyplot as plt\n",
    "import seaborn as sns\n",
    "import numpy as np\n",
    "import datetime as dt\n",
    "%matplotlib inline\n",
    "\n",
    "sns.set(rc={'figure.figsize':(12,6)})"
   ]
  },
  {
   "cell_type": "code",
   "execution_count": 60,
   "id": "ace69231",
   "metadata": {},
   "outputs": [],
   "source": [
    "df = pd.read_csv('gold_mining_data.csv')"
   ]
  },
  {
   "cell_type": "code",
   "execution_count": 61,
   "id": "3b13e11a",
   "metadata": {},
   "outputs": [
    {
     "data": {
      "text/html": [
       "<div>\n",
       "<style scoped>\n",
       "    .dataframe tbody tr th:only-of-type {\n",
       "        vertical-align: middle;\n",
       "    }\n",
       "\n",
       "    .dataframe tbody tr th {\n",
       "        vertical-align: top;\n",
       "    }\n",
       "\n",
       "    .dataframe thead th {\n",
       "        text-align: right;\n",
       "    }\n",
       "</style>\n",
       "<table border=\"1\" class=\"dataframe\">\n",
       "  <thead>\n",
       "    <tr style=\"text-align: right;\">\n",
       "      <th></th>\n",
       "      <th>dwarf_id</th>\n",
       "      <th>hired_date</th>\n",
       "      <th>reported_date</th>\n",
       "      <th>gold_mined</th>\n",
       "      <th>hammer_date</th>\n",
       "    </tr>\n",
       "  </thead>\n",
       "  <tbody>\n",
       "    <tr>\n",
       "      <th>0</th>\n",
       "      <td>1</td>\n",
       "      <td>2014-01-01</td>\n",
       "      <td>2014-01-31</td>\n",
       "      <td>656</td>\n",
       "      <td>2014-01-01</td>\n",
       "    </tr>\n",
       "    <tr>\n",
       "      <th>1</th>\n",
       "      <td>1</td>\n",
       "      <td>2014-01-01</td>\n",
       "      <td>2014-02-28</td>\n",
       "      <td>565</td>\n",
       "      <td>2014-01-01</td>\n",
       "    </tr>\n",
       "    <tr>\n",
       "      <th>2</th>\n",
       "      <td>1</td>\n",
       "      <td>2014-01-01</td>\n",
       "      <td>2014-03-31</td>\n",
       "      <td>516</td>\n",
       "      <td>2014-01-01</td>\n",
       "    </tr>\n",
       "    <tr>\n",
       "      <th>3</th>\n",
       "      <td>1</td>\n",
       "      <td>2014-01-01</td>\n",
       "      <td>2014-04-30</td>\n",
       "      <td>568</td>\n",
       "      <td>2014-01-01</td>\n",
       "    </tr>\n",
       "    <tr>\n",
       "      <th>4</th>\n",
       "      <td>1</td>\n",
       "      <td>2014-01-01</td>\n",
       "      <td>2014-05-31</td>\n",
       "      <td>556</td>\n",
       "      <td>2014-01-01</td>\n",
       "    </tr>\n",
       "  </tbody>\n",
       "</table>\n",
       "</div>"
      ],
      "text/plain": [
       "   dwarf_id  hired_date reported_date  gold_mined hammer_date\n",
       "0         1  2014-01-01    2014-01-31         656  2014-01-01\n",
       "1         1  2014-01-01    2014-02-28         565  2014-01-01\n",
       "2         1  2014-01-01    2014-03-31         516  2014-01-01\n",
       "3         1  2014-01-01    2014-04-30         568  2014-01-01\n",
       "4         1  2014-01-01    2014-05-31         556  2014-01-01"
      ]
     },
     "execution_count": 61,
     "metadata": {},
     "output_type": "execute_result"
    }
   ],
   "source": [
    "df.head()"
   ]
  },
  {
   "cell_type": "code",
   "execution_count": 62,
   "id": "b8007d82",
   "metadata": {},
   "outputs": [
    {
     "data": {
      "text/plain": [
       "13493"
      ]
     },
     "execution_count": 62,
     "metadata": {},
     "output_type": "execute_result"
    }
   ],
   "source": [
    "df.shape[0]"
   ]
  },
  {
   "cell_type": "code",
   "execution_count": 63,
   "id": "c79abeb1",
   "metadata": {},
   "outputs": [
    {
     "data": {
      "text/plain": [
       "dwarf_id          int64\n",
       "hired_date       object\n",
       "reported_date    object\n",
       "gold_mined        int64\n",
       "hammer_date      object\n",
       "dtype: object"
      ]
     },
     "execution_count": 63,
     "metadata": {},
     "output_type": "execute_result"
    }
   ],
   "source": [
    "df.dtypes"
   ]
  },
  {
   "cell_type": "code",
   "execution_count": 64,
   "id": "0bb297b9",
   "metadata": {},
   "outputs": [
    {
     "data": {
      "text/html": [
       "<div>\n",
       "<style scoped>\n",
       "    .dataframe tbody tr th:only-of-type {\n",
       "        vertical-align: middle;\n",
       "    }\n",
       "\n",
       "    .dataframe tbody tr th {\n",
       "        vertical-align: top;\n",
       "    }\n",
       "\n",
       "    .dataframe thead th {\n",
       "        text-align: right;\n",
       "    }\n",
       "</style>\n",
       "<table border=\"1\" class=\"dataframe\">\n",
       "  <thead>\n",
       "    <tr style=\"text-align: right;\">\n",
       "      <th></th>\n",
       "      <th>dwarf_id</th>\n",
       "      <th>gold_mined</th>\n",
       "    </tr>\n",
       "  </thead>\n",
       "  <tbody>\n",
       "    <tr>\n",
       "      <th>count</th>\n",
       "      <td>13493.000000</td>\n",
       "      <td>13493.000000</td>\n",
       "    </tr>\n",
       "    <tr>\n",
       "      <th>mean</th>\n",
       "      <td>724.746387</td>\n",
       "      <td>573.222560</td>\n",
       "    </tr>\n",
       "    <tr>\n",
       "      <th>std</th>\n",
       "      <td>645.211463</td>\n",
       "      <td>60.166139</td>\n",
       "    </tr>\n",
       "    <tr>\n",
       "      <th>min</th>\n",
       "      <td>1.000000</td>\n",
       "      <td>352.000000</td>\n",
       "    </tr>\n",
       "    <tr>\n",
       "      <th>25%</th>\n",
       "      <td>209.000000</td>\n",
       "      <td>533.000000</td>\n",
       "    </tr>\n",
       "    <tr>\n",
       "      <th>50%</th>\n",
       "      <td>528.000000</td>\n",
       "      <td>579.000000</td>\n",
       "    </tr>\n",
       "    <tr>\n",
       "      <th>75%</th>\n",
       "      <td>1060.000000</td>\n",
       "      <td>618.000000</td>\n",
       "    </tr>\n",
       "    <tr>\n",
       "      <th>max</th>\n",
       "      <td>2677.000000</td>\n",
       "      <td>753.000000</td>\n",
       "    </tr>\n",
       "  </tbody>\n",
       "</table>\n",
       "</div>"
      ],
      "text/plain": [
       "           dwarf_id    gold_mined\n",
       "count  13493.000000  13493.000000\n",
       "mean     724.746387    573.222560\n",
       "std      645.211463     60.166139\n",
       "min        1.000000    352.000000\n",
       "25%      209.000000    533.000000\n",
       "50%      528.000000    579.000000\n",
       "75%     1060.000000    618.000000\n",
       "max     2677.000000    753.000000"
      ]
     },
     "execution_count": 64,
     "metadata": {},
     "output_type": "execute_result"
    }
   ],
   "source": [
    "df.describe()"
   ]
  },
  {
   "cell_type": "code",
   "execution_count": 65,
   "id": "b9dec200",
   "metadata": {},
   "outputs": [
    {
     "data": {
      "text/plain": [
       "dwarf_id         0\n",
       "hired_date       0\n",
       "reported_date    0\n",
       "gold_mined       0\n",
       "hammer_date      0\n",
       "dtype: int64"
      ]
     },
     "execution_count": 65,
     "metadata": {},
     "output_type": "execute_result"
    }
   ],
   "source": [
    "df.isna().sum()"
   ]
  },
  {
   "cell_type": "code",
   "execution_count": 66,
   "id": "9c4ac24e",
   "metadata": {},
   "outputs": [],
   "source": [
    "df['hired_date'] = pd.to_datetime(df['hired_date'])\n",
    "df['hammer_date'] = pd.to_datetime(df['hammer_date'])"
   ]
  },
  {
   "cell_type": "code",
   "execution_count": 9,
   "id": "7adce9db",
   "metadata": {},
   "outputs": [
    {
     "data": {
      "text/plain": [
       "dwarf_id\n",
       "1       1\n",
       "1780    1\n",
       "1782    1\n",
       "1783    1\n",
       "1784    1\n",
       "       ..\n",
       "894     1\n",
       "895     1\n",
       "896     1\n",
       "897     1\n",
       "2677    1\n",
       "Name: hammer_date, Length: 2677, dtype: int64"
      ]
     },
     "execution_count": 9,
     "metadata": {},
     "output_type": "execute_result"
    }
   ],
   "source": [
    "# проверяем, есть ли гномы, попавшие в обе группы\n",
    "df.groupby('dwarf_id')['hammer_date'].nunique() \\\n",
    "  .sort_values(ascending=False)"
   ]
  },
  {
   "cell_type": "code",
   "execution_count": 10,
   "id": "e45771ad",
   "metadata": {},
   "outputs": [
    {
     "data": {
      "text/html": [
       "<div>\n",
       "<style scoped>\n",
       "    .dataframe tbody tr th:only-of-type {\n",
       "        vertical-align: middle;\n",
       "    }\n",
       "\n",
       "    .dataframe tbody tr th {\n",
       "        vertical-align: top;\n",
       "    }\n",
       "\n",
       "    .dataframe thead th {\n",
       "        text-align: right;\n",
       "    }\n",
       "</style>\n",
       "<table border=\"1\" class=\"dataframe\">\n",
       "  <thead>\n",
       "    <tr style=\"text-align: right;\">\n",
       "      <th></th>\n",
       "      <th>hammer_date</th>\n",
       "      <th>reported_date</th>\n",
       "    </tr>\n",
       "  </thead>\n",
       "  <tbody>\n",
       "    <tr>\n",
       "      <th>0</th>\n",
       "      <td>2014-01-01</td>\n",
       "      <td>6777</td>\n",
       "    </tr>\n",
       "    <tr>\n",
       "      <th>1</th>\n",
       "      <td>2015-01-01</td>\n",
       "      <td>6716</td>\n",
       "    </tr>\n",
       "  </tbody>\n",
       "</table>\n",
       "</div>"
      ],
      "text/plain": [
       "  hammer_date  reported_date\n",
       "0  2014-01-01           6777\n",
       "1  2015-01-01           6716"
      ]
     },
     "execution_count": 10,
     "metadata": {},
     "output_type": "execute_result"
    }
   ],
   "source": [
    "# количество отчетов в каждой группе\n",
    "df.groupby('hammer_date', as_index=False) \\\n",
    "  .reported_date.count()"
   ]
  },
  {
   "cell_type": "code",
   "execution_count": 11,
   "id": "d2c5cca4",
   "metadata": {},
   "outputs": [
    {
     "data": {
      "text/html": [
       "<div>\n",
       "<style scoped>\n",
       "    .dataframe tbody tr th:only-of-type {\n",
       "        vertical-align: middle;\n",
       "    }\n",
       "\n",
       "    .dataframe tbody tr th {\n",
       "        vertical-align: top;\n",
       "    }\n",
       "\n",
       "    .dataframe thead th {\n",
       "        text-align: right;\n",
       "    }\n",
       "</style>\n",
       "<table border=\"1\" class=\"dataframe\">\n",
       "  <thead>\n",
       "    <tr style=\"text-align: right;\">\n",
       "      <th></th>\n",
       "      <th>hammer_date</th>\n",
       "      <th>dwarf_id</th>\n",
       "    </tr>\n",
       "  </thead>\n",
       "  <tbody>\n",
       "    <tr>\n",
       "      <th>0</th>\n",
       "      <td>2014-01-01</td>\n",
       "      <td>531</td>\n",
       "    </tr>\n",
       "    <tr>\n",
       "      <th>1</th>\n",
       "      <td>2015-01-01</td>\n",
       "      <td>2146</td>\n",
       "    </tr>\n",
       "  </tbody>\n",
       "</table>\n",
       "</div>"
      ],
      "text/plain": [
       "  hammer_date  dwarf_id\n",
       "0  2014-01-01       531\n",
       "1  2015-01-01      2146"
      ]
     },
     "execution_count": 11,
     "metadata": {},
     "output_type": "execute_result"
    }
   ],
   "source": [
    "# количество гномов в каждой группе\n",
    "df.groupby('hammer_date', as_index=False) \\\n",
    "  .dwarf_id.nunique()"
   ]
  },
  {
   "cell_type": "code",
   "execution_count": 12,
   "id": "a181d9e4",
   "metadata": {},
   "outputs": [
    {
     "data": {
      "text/html": [
       "<div>\n",
       "<style scoped>\n",
       "    .dataframe tbody tr th:only-of-type {\n",
       "        vertical-align: middle;\n",
       "    }\n",
       "\n",
       "    .dataframe tbody tr th {\n",
       "        vertical-align: top;\n",
       "    }\n",
       "\n",
       "    .dataframe thead tr th {\n",
       "        text-align: left;\n",
       "    }\n",
       "</style>\n",
       "<table border=\"1\" class=\"dataframe\">\n",
       "  <thead>\n",
       "    <tr>\n",
       "      <th></th>\n",
       "      <th>hammer_date</th>\n",
       "      <th colspan=\"3\" halign=\"left\">count_reports</th>\n",
       "    </tr>\n",
       "    <tr>\n",
       "      <th></th>\n",
       "      <th></th>\n",
       "      <th>min</th>\n",
       "      <th>max</th>\n",
       "      <th>mean</th>\n",
       "    </tr>\n",
       "  </thead>\n",
       "  <tbody>\n",
       "    <tr>\n",
       "      <th>0</th>\n",
       "      <td>2014-01-01</td>\n",
       "      <td>9</td>\n",
       "      <td>20</td>\n",
       "      <td>12.762712</td>\n",
       "    </tr>\n",
       "    <tr>\n",
       "      <th>1</th>\n",
       "      <td>2015-01-01</td>\n",
       "      <td>1</td>\n",
       "      <td>8</td>\n",
       "      <td>3.129543</td>\n",
       "    </tr>\n",
       "  </tbody>\n",
       "</table>\n",
       "</div>"
      ],
      "text/plain": [
       "  hammer_date count_reports               \n",
       "                        min max       mean\n",
       "0  2014-01-01             9  20  12.762712\n",
       "1  2015-01-01             1   8   3.129543"
      ]
     },
     "execution_count": 12,
     "metadata": {},
     "output_type": "execute_result"
    }
   ],
   "source": [
    "# минимальное, максимальное и среднее количество отчетов \n",
    "df.groupby(['hammer_date','dwarf_id'], as_index=False) \\\n",
    "  .agg({'reported_date': 'count'}) \\\n",
    "  .rename(columns={'reported_date': 'count_reports'}) \\\n",
    "  .groupby('hammer_date' , as_index=False) \\\n",
    "  .agg({'count_reports': ['min', 'max', 'mean']})"
   ]
  },
  {
   "cell_type": "code",
   "execution_count": 13,
   "id": "3ab3b59a",
   "metadata": {},
   "outputs": [
    {
     "data": {
      "text/plain": [
       "<AxesSubplot:xlabel='hammer_date', ylabel='gold_mined'>"
      ]
     },
     "execution_count": 13,
     "metadata": {},
     "output_type": "execute_result"
    },
    {
     "data": {
      "image/png": "[encoded data removed]",
      "text/plain": [
       "<Figure size 864x432 with 1 Axes>"
      ]
     },
     "metadata": {},
     "output_type": "display_data"
    }
   ],
   "source": [
    "# распределение добытого золота по отчетам\n",
    "sns.boxplot(x='hammer_date', y='gold_mined', data=df)"
   ]
  },
  {
   "cell_type": "code",
   "execution_count": 14,
   "id": "84be6988",
   "metadata": {},
   "outputs": [],
   "source": [
    "# подсчет среднего количества добытого золота в месяц на одного гнома\n",
    "mean_by_dwarves = df.groupby(['hammer_date','dwarf_id'], as_index=False) \\\n",
    "                    .agg({'gold_mined':'mean'}) \\\n",
    "                    .rename(columns={'gold_mined': 'mean_gold_mined'})"
   ]
  },
  {
   "cell_type": "code",
   "execution_count": 15,
   "id": "4e484bbc",
   "metadata": {},
   "outputs": [
    {
     "data": {
      "text/plain": [
       "<AxesSubplot:xlabel='hammer_date', ylabel='mean_gold_mined'>"
      ]
     },
     "execution_count": 15,
     "metadata": {},
     "output_type": "execute_result"
    },
    {
     "data": {
      "image/png": "[encoded data removed]",
      "text/plain": [
       "<Figure size 864x432 with 1 Axes>"
      ]
     },
     "metadata": {},
     "output_type": "display_data"
    }
   ],
   "source": [
    "# распределение по среднему количеству добытого золота в месяц на одного гнома\n",
    "sns.boxplot(x='hammer_date', y='mean_gold_mined', data=mean_by_dwarves)"
   ]
  },
  {
   "cell_type": "code",
   "execution_count": 16,
   "id": "894bca1d",
   "metadata": {},
   "outputs": [],
   "source": [
    "# нумерация отчетов по каждому гному\n",
    "df['report_number'] = df.groupby('dwarf_id')['reported_date'].cumcount() + 1"
   ]
  },
  {
   "cell_type": "code",
   "execution_count": 17,
   "id": "390a8281",
   "metadata": {},
   "outputs": [],
   "source": [
    "# подсчет среднего по номеру отчета\n",
    "df_1 = df.groupby(['hammer_date', 'report_number'], as_index=False) \\\n",
    "         .agg({'gold_mined': 'mean'}) \\\n",
    "         .round(1)"
   ]
  },
  {
   "cell_type": "code",
   "execution_count": 18,
   "id": "c4f144de",
   "metadata": {},
   "outputs": [
    {
     "data": {
      "text/html": [
       "<div>\n",
       "<style scoped>\n",
       "    .dataframe tbody tr th:only-of-type {\n",
       "        vertical-align: middle;\n",
       "    }\n",
       "\n",
       "    .dataframe tbody tr th {\n",
       "        vertical-align: top;\n",
       "    }\n",
       "\n",
       "    .dataframe thead th {\n",
       "        text-align: right;\n",
       "    }\n",
       "</style>\n",
       "<table border=\"1\" class=\"dataframe\">\n",
       "  <thead>\n",
       "    <tr style=\"text-align: right;\">\n",
       "      <th></th>\n",
       "      <th>hammer_date</th>\n",
       "      <th>report_number</th>\n",
       "      <th>gold_mined</th>\n",
       "    </tr>\n",
       "  </thead>\n",
       "  <tbody>\n",
       "    <tr>\n",
       "      <th>0</th>\n",
       "      <td>2014-01-01</td>\n",
       "      <td>1</td>\n",
       "      <td>599.9</td>\n",
       "    </tr>\n",
       "    <tr>\n",
       "      <th>1</th>\n",
       "      <td>2014-01-01</td>\n",
       "      <td>2</td>\n",
       "      <td>588.6</td>\n",
       "    </tr>\n",
       "    <tr>\n",
       "      <th>2</th>\n",
       "      <td>2014-01-01</td>\n",
       "      <td>3</td>\n",
       "      <td>580.0</td>\n",
       "    </tr>\n",
       "    <tr>\n",
       "      <th>3</th>\n",
       "      <td>2014-01-01</td>\n",
       "      <td>4</td>\n",
       "      <td>570.8</td>\n",
       "    </tr>\n",
       "    <tr>\n",
       "      <th>4</th>\n",
       "      <td>2014-01-01</td>\n",
       "      <td>5</td>\n",
       "      <td>559.8</td>\n",
       "    </tr>\n",
       "    <tr>\n",
       "      <th>5</th>\n",
       "      <td>2014-01-01</td>\n",
       "      <td>6</td>\n",
       "      <td>550.4</td>\n",
       "    </tr>\n",
       "    <tr>\n",
       "      <th>6</th>\n",
       "      <td>2014-01-01</td>\n",
       "      <td>7</td>\n",
       "      <td>540.6</td>\n",
       "    </tr>\n",
       "    <tr>\n",
       "      <th>7</th>\n",
       "      <td>2014-01-01</td>\n",
       "      <td>8</td>\n",
       "      <td>528.8</td>\n",
       "    </tr>\n",
       "    <tr>\n",
       "      <th>8</th>\n",
       "      <td>2014-01-01</td>\n",
       "      <td>9</td>\n",
       "      <td>520.6</td>\n",
       "    </tr>\n",
       "    <tr>\n",
       "      <th>9</th>\n",
       "      <td>2014-01-01</td>\n",
       "      <td>10</td>\n",
       "      <td>510.6</td>\n",
       "    </tr>\n",
       "    <tr>\n",
       "      <th>10</th>\n",
       "      <td>2014-01-01</td>\n",
       "      <td>11</td>\n",
       "      <td>498.5</td>\n",
       "    </tr>\n",
       "    <tr>\n",
       "      <th>11</th>\n",
       "      <td>2014-01-01</td>\n",
       "      <td>12</td>\n",
       "      <td>489.1</td>\n",
       "    </tr>\n",
       "    <tr>\n",
       "      <th>12</th>\n",
       "      <td>2014-01-01</td>\n",
       "      <td>13</td>\n",
       "      <td>476.5</td>\n",
       "    </tr>\n",
       "    <tr>\n",
       "      <th>13</th>\n",
       "      <td>2014-01-01</td>\n",
       "      <td>14</td>\n",
       "      <td>472.3</td>\n",
       "    </tr>\n",
       "    <tr>\n",
       "      <th>14</th>\n",
       "      <td>2014-01-01</td>\n",
       "      <td>15</td>\n",
       "      <td>459.3</td>\n",
       "    </tr>\n",
       "    <tr>\n",
       "      <th>15</th>\n",
       "      <td>2014-01-01</td>\n",
       "      <td>16</td>\n",
       "      <td>450.6</td>\n",
       "    </tr>\n",
       "    <tr>\n",
       "      <th>16</th>\n",
       "      <td>2014-01-01</td>\n",
       "      <td>17</td>\n",
       "      <td>441.4</td>\n",
       "    </tr>\n",
       "    <tr>\n",
       "      <th>17</th>\n",
       "      <td>2014-01-01</td>\n",
       "      <td>18</td>\n",
       "      <td>432.8</td>\n",
       "    </tr>\n",
       "    <tr>\n",
       "      <th>18</th>\n",
       "      <td>2014-01-01</td>\n",
       "      <td>19</td>\n",
       "      <td>414.6</td>\n",
       "    </tr>\n",
       "    <tr>\n",
       "      <th>19</th>\n",
       "      <td>2014-01-01</td>\n",
       "      <td>20</td>\n",
       "      <td>402.8</td>\n",
       "    </tr>\n",
       "    <tr>\n",
       "      <th>20</th>\n",
       "      <td>2015-01-01</td>\n",
       "      <td>1</td>\n",
       "      <td>638.3</td>\n",
       "    </tr>\n",
       "    <tr>\n",
       "      <th>21</th>\n",
       "      <td>2015-01-01</td>\n",
       "      <td>2</td>\n",
       "      <td>622.9</td>\n",
       "    </tr>\n",
       "    <tr>\n",
       "      <th>22</th>\n",
       "      <td>2015-01-01</td>\n",
       "      <td>3</td>\n",
       "      <td>606.3</td>\n",
       "    </tr>\n",
       "    <tr>\n",
       "      <th>23</th>\n",
       "      <td>2015-01-01</td>\n",
       "      <td>4</td>\n",
       "      <td>588.7</td>\n",
       "    </tr>\n",
       "    <tr>\n",
       "      <th>24</th>\n",
       "      <td>2015-01-01</td>\n",
       "      <td>5</td>\n",
       "      <td>572.1</td>\n",
       "    </tr>\n",
       "    <tr>\n",
       "      <th>25</th>\n",
       "      <td>2015-01-01</td>\n",
       "      <td>6</td>\n",
       "      <td>554.8</td>\n",
       "    </tr>\n",
       "    <tr>\n",
       "      <th>26</th>\n",
       "      <td>2015-01-01</td>\n",
       "      <td>7</td>\n",
       "      <td>540.2</td>\n",
       "    </tr>\n",
       "    <tr>\n",
       "      <th>27</th>\n",
       "      <td>2015-01-01</td>\n",
       "      <td>8</td>\n",
       "      <td>518.3</td>\n",
       "    </tr>\n",
       "  </tbody>\n",
       "</table>\n",
       "</div>"
      ],
      "text/plain": [
       "   hammer_date  report_number  gold_mined\n",
       "0   2014-01-01              1       599.9\n",
       "1   2014-01-01              2       588.6\n",
       "2   2014-01-01              3       580.0\n",
       "3   2014-01-01              4       570.8\n",
       "4   2014-01-01              5       559.8\n",
       "5   2014-01-01              6       550.4\n",
       "6   2014-01-01              7       540.6\n",
       "7   2014-01-01              8       528.8\n",
       "8   2014-01-01              9       520.6\n",
       "9   2014-01-01             10       510.6\n",
       "10  2014-01-01             11       498.5\n",
       "11  2014-01-01             12       489.1\n",
       "12  2014-01-01             13       476.5\n",
       "13  2014-01-01             14       472.3\n",
       "14  2014-01-01             15       459.3\n",
       "15  2014-01-01             16       450.6\n",
       "16  2014-01-01             17       441.4\n",
       "17  2014-01-01             18       432.8\n",
       "18  2014-01-01             19       414.6\n",
       "19  2014-01-01             20       402.8\n",
       "20  2015-01-01              1       638.3\n",
       "21  2015-01-01              2       622.9\n",
       "22  2015-01-01              3       606.3\n",
       "23  2015-01-01              4       588.7\n",
       "24  2015-01-01              5       572.1\n",
       "25  2015-01-01              6       554.8\n",
       "26  2015-01-01              7       540.2\n",
       "27  2015-01-01              8       518.3"
      ]
     },
     "execution_count": 18,
     "metadata": {},
     "output_type": "execute_result"
    }
   ],
   "source": [
    "df_1"
   ]
  },
  {
   "cell_type": "code",
   "execution_count": 19,
   "id": "f73790e3",
   "metadata": {},
   "outputs": [
    {
     "data": {
      "text/plain": [
       "<AxesSubplot:xlabel='report_number', ylabel='gold_mined'>"
      ]
     },
     "execution_count": 19,
     "metadata": {},
     "output_type": "execute_result"
    },
    {
     "data": {
      "image/png": "[encoded data removed]",
      "text/plain": [
       "<Figure size 864x432 with 1 Axes>"
      ]
     },
     "metadata": {},
     "output_type": "display_data"
    }
   ],
   "source": [
    "# распределение средних значений по номерам отчетов\n",
    "sns.scatterplot(x='report_number',\n",
    "            y='gold_mined',\n",
    "            hue='hammer_date',\n",
    "            size = 'hammer_date',\n",
    "            sizes = (100, 100),\n",
    "            data=df_1)"
   ]
  },
  {
   "cell_type": "markdown",
   "id": "3cd893e6",
   "metadata": {},
   "source": [
    "## Вывод:\n",
    "\n",
    "- гномы с инструментами 2-го поколения в первые месяцы дают выше производительность по сравнению с гномами с инструментами 1-го поколения\n",
    "- со временем производительность гномов с инструментами 2-го поколения падает быстрее чем производительность гномов с инструментами 1-го поколения\n",
    "- у нас мало данных по производительности инструментов 2-го поколения, возможно следует понаблюдать за результатами еще несколько месяцев\n",
    "- чтобы в целом оценить какое поколение эффективнее, необходимы данные о стоимости, расходах на обслуживание и сроках эксплуатации каждого поколения инструментов."
   ]
  },
  {
   "cell_type": "code",
   "execution_count": 20,
   "id": "599267d5",
   "metadata": {},
   "outputs": [],
   "source": [
    "# прогноз средних значений по отчетам с 8 по 20 месяц\n",
    "df_2 = df_1.query('hammer_date == \"2015-01-01\"')"
   ]
  },
  {
   "cell_type": "code",
   "execution_count": 21,
   "id": "f5f7e607",
   "metadata": {},
   "outputs": [
    {
     "data": {
      "text/html": [
       "<div>\n",
       "<style scoped>\n",
       "    .dataframe tbody tr th:only-of-type {\n",
       "        vertical-align: middle;\n",
       "    }\n",
       "\n",
       "    .dataframe tbody tr th {\n",
       "        vertical-align: top;\n",
       "    }\n",
       "\n",
       "    .dataframe thead th {\n",
       "        text-align: right;\n",
       "    }\n",
       "</style>\n",
       "<table border=\"1\" class=\"dataframe\">\n",
       "  <thead>\n",
       "    <tr style=\"text-align: right;\">\n",
       "      <th></th>\n",
       "      <th>hammer_date</th>\n",
       "      <th>report_number</th>\n",
       "      <th>gold_mined</th>\n",
       "    </tr>\n",
       "  </thead>\n",
       "  <tbody>\n",
       "    <tr>\n",
       "      <th>20</th>\n",
       "      <td>2015-01-01</td>\n",
       "      <td>1</td>\n",
       "      <td>638.3</td>\n",
       "    </tr>\n",
       "    <tr>\n",
       "      <th>21</th>\n",
       "      <td>2015-01-01</td>\n",
       "      <td>2</td>\n",
       "      <td>622.9</td>\n",
       "    </tr>\n",
       "    <tr>\n",
       "      <th>22</th>\n",
       "      <td>2015-01-01</td>\n",
       "      <td>3</td>\n",
       "      <td>606.3</td>\n",
       "    </tr>\n",
       "    <tr>\n",
       "      <th>23</th>\n",
       "      <td>2015-01-01</td>\n",
       "      <td>4</td>\n",
       "      <td>588.7</td>\n",
       "    </tr>\n",
       "    <tr>\n",
       "      <th>24</th>\n",
       "      <td>2015-01-01</td>\n",
       "      <td>5</td>\n",
       "      <td>572.1</td>\n",
       "    </tr>\n",
       "    <tr>\n",
       "      <th>25</th>\n",
       "      <td>2015-01-01</td>\n",
       "      <td>6</td>\n",
       "      <td>554.8</td>\n",
       "    </tr>\n",
       "    <tr>\n",
       "      <th>26</th>\n",
       "      <td>2015-01-01</td>\n",
       "      <td>7</td>\n",
       "      <td>540.2</td>\n",
       "    </tr>\n",
       "    <tr>\n",
       "      <th>27</th>\n",
       "      <td>2015-01-01</td>\n",
       "      <td>8</td>\n",
       "      <td>518.3</td>\n",
       "    </tr>\n",
       "  </tbody>\n",
       "</table>\n",
       "</div>"
      ],
      "text/plain": [
       "   hammer_date  report_number  gold_mined\n",
       "20  2015-01-01              1       638.3\n",
       "21  2015-01-01              2       622.9\n",
       "22  2015-01-01              3       606.3\n",
       "23  2015-01-01              4       588.7\n",
       "24  2015-01-01              5       572.1\n",
       "25  2015-01-01              6       554.8\n",
       "26  2015-01-01              7       540.2\n",
       "27  2015-01-01              8       518.3"
      ]
     },
     "execution_count": 21,
     "metadata": {},
     "output_type": "execute_result"
    }
   ],
   "source": [
    "df_2"
   ]
  },
  {
   "cell_type": "code",
   "execution_count": 22,
   "id": "cc919234",
   "metadata": {},
   "outputs": [],
   "source": [
    "from sklearn.linear_model import LinearRegression"
   ]
  },
  {
   "cell_type": "code",
   "execution_count": 23,
   "id": "b5a3f55c",
   "metadata": {},
   "outputs": [],
   "source": [
    "x = np.array(df_2.report_number).reshape((-1, 1))\n",
    "y = np.array(df_2.gold_mined)"
   ]
  },
  {
   "cell_type": "code",
   "execution_count": 24,
   "id": "3b115351",
   "metadata": {},
   "outputs": [],
   "source": [
    "model = LinearRegression().fit(x, y)"
   ]
  },
  {
   "cell_type": "code",
   "execution_count": 25,
   "id": "88f0ceef",
   "metadata": {},
   "outputs": [
    {
     "name": "stdout",
     "output_type": "stream",
     "text": [
      "coefficient of determination: 0.9988035137195019\n"
     ]
    }
   ],
   "source": [
    "r_sq = model.score(x, y)\n",
    "print('coefficient of determination:', r_sq)"
   ]
  },
  {
   "cell_type": "code",
   "execution_count": 26,
   "id": "1a49e817",
   "metadata": {},
   "outputs": [
    {
     "name": "stdout",
     "output_type": "stream",
     "text": [
      "intercept: 656.5178571428571\n"
     ]
    }
   ],
   "source": [
    "print('intercept:', model.intercept_)"
   ]
  },
  {
   "cell_type": "code",
   "execution_count": 27,
   "id": "316d87a7",
   "metadata": {},
   "outputs": [
    {
     "name": "stdout",
     "output_type": "stream",
     "text": [
      "slope: [-16.95952381]\n"
     ]
    }
   ],
   "source": [
    "print('slope:', model.coef_)"
   ]
  },
  {
   "cell_type": "code",
   "execution_count": 28,
   "id": "d159aa18",
   "metadata": {},
   "outputs": [
    {
     "name": "stdout",
     "output_type": "stream",
     "text": [
      "predicted response:\n",
      "[639.55833333 622.59880952 605.63928571 588.6797619  571.7202381\n",
      " 554.76071429 537.80119048 520.84166667]\n"
     ]
    }
   ],
   "source": [
    "y_pred = model.predict(x)\n",
    "print('predicted response:', y_pred, sep='\\n')"
   ]
  },
  {
   "cell_type": "code",
   "execution_count": 29,
   "id": "88619f7f",
   "metadata": {},
   "outputs": [],
   "source": [
    "a = np.array([9, 10, 11, 12, 13, 14, 15, 16, 17, 18, 19, 20]).reshape((-1, 1))"
   ]
  },
  {
   "cell_type": "code",
   "execution_count": 30,
   "id": "35041a7a",
   "metadata": {},
   "outputs": [],
   "source": [
    "y_pred = model.predict(a)"
   ]
  },
  {
   "cell_type": "code",
   "execution_count": 31,
   "id": "d68deee4",
   "metadata": {},
   "outputs": [
    {
     "name": "stdout",
     "output_type": "stream",
     "text": [
      "predicted response:\n",
      "[503.88214286 486.92261905 469.96309524 453.00357143 436.04404762\n",
      " 419.08452381 402.125      385.16547619 368.20595238 351.24642857\n",
      " 334.28690476 317.32738095]\n"
     ]
    }
   ],
   "source": [
    "print('predicted response:', y_pred, sep='\\n')"
   ]
  },
  {
   "cell_type": "code",
   "execution_count": 43,
   "id": "c3583037",
   "metadata": {},
   "outputs": [],
   "source": [
    "second_generation = pd.DataFrame(y_pred, columns=['gold_mined']).append(df_2, ignore_index=False)"
   ]
  },
  {
   "cell_type": "code",
   "execution_count": 48,
   "id": "948a3328",
   "metadata": {},
   "outputs": [
    {
     "data": {
      "text/plain": [
       "9568.857142857143"
      ]
     },
     "execution_count": 48,
     "metadata": {},
     "output_type": "execute_result"
    }
   ],
   "source": [
    "# прогноз производительности за 20 месяцев для инструментов 2-го поколения \n",
    "# (сумма средних значений по отчетам за 8 месяцев + результаты прогноза с 9 по 20 месяцы)\n",
    "second_generation.gold_mined.sum()"
   ]
  },
  {
   "cell_type": "code",
   "execution_count": 45,
   "id": "d9910777",
   "metadata": {},
   "outputs": [],
   "source": [
    "# подсчет производительности за 20 месяцев для инструментов 1-го поколения\n",
    "# (сумма средних значений по отчетам за 20 месяцев)\n",
    "first_generation = df_1.query('hammer_date ==\"2014-01-01\"') \\\n",
    "                       .agg({'gold_mined':'sum'})"
   ]
  },
  {
   "cell_type": "code",
   "execution_count": 46,
   "id": "86cbaa05",
   "metadata": {
    "scrolled": true
   },
   "outputs": [
    {
     "data": {
      "text/plain": [
       "gold_mined    10088.0\n",
       "dtype: float64"
      ]
     },
     "execution_count": 46,
     "metadata": {},
     "output_type": "execute_result"
    }
   ],
   "source": [
    "first_generation"
   ]
  },
  {
   "cell_type": "markdown",
   "id": "08465737",
   "metadata": {},
   "source": [
    "## Вывод:\n",
    "\n",
    "Если тенденция снижения производительности с каждым месяцем сохранится, то на дистанции 20 месяцев инструменты 1-го поколения дадут большую производительность по сравнению с инструментами 2-го поколения."
   ]
  },
  {
   "cell_type": "code",
   "execution_count": null,
   "id": "6495e1f8",
   "metadata": {},
   "outputs": [],
   "source": []
  }
 ],
 "metadata": {
  "kernelspec": {
   "display_name": "Python 3",
   "language": "python",
   "name": "python3"
  },
  "language_info": {
   "codemirror_mode": {
    "name": "ipython",
    "version": 3
   },
   "file_extension": ".py",
   "mimetype": "text/x-python",
   "name": "python",
   "nbconvert_exporter": "python",
   "pygments_lexer": "ipython3",
   "version": "3.8.8"
  }
 },
 "nbformat": 4,
 "nbformat_minor": 5
}
