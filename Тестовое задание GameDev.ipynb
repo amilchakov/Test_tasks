{
 "cells": [
  {
   "cell_type": "markdown",
   "id": "953c47a7",
   "metadata": {},
   "source": [
    "## Тестовое задание на должность продуктового аналитика (junior)\n",
    "\n",
    "### Задание 1\n",
    "\n",
    "Вы работаете junior аналитиком в компании, создающей мобильные игры. Вам необходимо проанализировать данные, содержащие информацию об игроке, - его уровень, страна, платформа, дата регистрации и дата login’a. Эти данные помогут сформулировать представление об аудитории игры.\n",
    "\n",
    "Датасет:\n",
    "https://docs.google.com/spreadsheets/d/1bb0mBd9OGSdH08POkWgcYlK9a2YPQq1Dd2XyikUdeeI/edit#gid=1478114822\n",
    "\n",
    "Таблица содержит следующие столбцы:\n",
    "- сountry - страна,\n",
    "- pl - уровень игрока,\n",
    "- plf - платформа, \n",
    "- reg - дата регистрации игрока, \n",
    "- ts - время последнего захода игрока в игру, \n",
    "- user - id игрока.\n",
    "\n",
    "#### Вопросы:\n",
    "1. Для каждой платформы определите топ 5 стран по количеству игроков. \n",
    "2. Какой максимальный lifetime у игроков в игре?\n",
    "3. Какое количество игроков находится выше 20 уровня? \n",
    "4. Посчитайте средний уровень игроков для каждой страны.\n",
    "\n",
    "#### Как выполнять задание:\n",
    "- Результаты можете предоставить в виде тетрадки Jupyter Notebook (предпочтительно) или в Google spreadsheets (для каждого вопроса отдельный лист).\n",
    "- Опишите короткий вывод по каждому решению.\n"
   ]
  },
  {
   "cell_type": "code",
   "execution_count": 869,
   "id": "a6c87f97",
   "metadata": {},
   "outputs": [],
   "source": [
    "import pandas as pd\n",
    "import matplotlib.pyplot as plt\n",
    "import seaborn as sns\n",
    "import numpy as np\n",
    "%matplotlib inline\n",
    "\n",
    "sns.set(rc={'figure.figsize':(12,6)})"
   ]
  },
  {
   "cell_type": "code",
   "execution_count": 870,
   "id": "2d06eaab",
   "metadata": {},
   "outputs": [],
   "source": [
    "sheet_url = 'https://docs.google.com/spreadsheets/d/1bb0mBd9OGSdH08POkWgcYlK9a2YPQq1Dd2XyikUdeeI/edit#gid=1478114822'"
   ]
  },
  {
   "cell_type": "code",
   "execution_count": 871,
   "id": "a0e62b38",
   "metadata": {},
   "outputs": [],
   "source": [
    "csv_export_url = sheet_url.replace('/edit#gid=', '/export?format=csv&gid=')"
   ]
  },
  {
   "cell_type": "code",
   "execution_count": 872,
   "id": "690e5d38",
   "metadata": {},
   "outputs": [],
   "source": [
    "df = pd.read_csv(csv_export_url)"
   ]
  },
  {
   "cell_type": "code",
   "execution_count": 873,
   "id": "155970ec",
   "metadata": {
    "scrolled": false
   },
   "outputs": [
    {
     "data": {
      "text/html": [
       "<div>\n",
       "<style scoped>\n",
       "    .dataframe tbody tr th:only-of-type {\n",
       "        vertical-align: middle;\n",
       "    }\n",
       "\n",
       "    .dataframe tbody tr th {\n",
       "        vertical-align: top;\n",
       "    }\n",
       "\n",
       "    .dataframe thead th {\n",
       "        text-align: right;\n",
       "    }\n",
       "</style>\n",
       "<table border=\"1\" class=\"dataframe\">\n",
       "  <thead>\n",
       "    <tr style=\"text-align: right;\">\n",
       "      <th></th>\n",
       "      <th>country</th>\n",
       "      <th>pl</th>\n",
       "      <th>plf</th>\n",
       "      <th>reg</th>\n",
       "      <th>ts</th>\n",
       "      <th>user</th>\n",
       "    </tr>\n",
       "  </thead>\n",
       "  <tbody>\n",
       "    <tr>\n",
       "      <th>0</th>\n",
       "      <td>IT</td>\n",
       "      <td>33</td>\n",
       "      <td>Android</td>\n",
       "      <td>1511191920859</td>\n",
       "      <td>1586044805457</td>\n",
       "      <td>1122239prod-eu</td>\n",
       "    </tr>\n",
       "    <tr>\n",
       "      <th>1</th>\n",
       "      <td>IN</td>\n",
       "      <td>33</td>\n",
       "      <td>Android</td>\n",
       "      <td>1509074590554</td>\n",
       "      <td>1586045807421</td>\n",
       "      <td>147065prod-us</td>\n",
       "    </tr>\n",
       "    <tr>\n",
       "      <th>2</th>\n",
       "      <td>TR</td>\n",
       "      <td>33</td>\n",
       "      <td>iOS</td>\n",
       "      <td>1575420775882</td>\n",
       "      <td>1586047059117</td>\n",
       "      <td>25564086prod-eu</td>\n",
       "    </tr>\n",
       "    <tr>\n",
       "      <th>3</th>\n",
       "      <td>HK</td>\n",
       "      <td>12</td>\n",
       "      <td>Android</td>\n",
       "      <td>1584406076183</td>\n",
       "      <td>1586045087568</td>\n",
       "      <td>10123050prod-as</td>\n",
       "    </tr>\n",
       "    <tr>\n",
       "      <th>4</th>\n",
       "      <td>CN</td>\n",
       "      <td>21</td>\n",
       "      <td>Android</td>\n",
       "      <td>1581887511291</td>\n",
       "      <td>1586046421744</td>\n",
       "      <td>9893956prod-as</td>\n",
       "    </tr>\n",
       "    <tr>\n",
       "      <th>...</th>\n",
       "      <td>...</td>\n",
       "      <td>...</td>\n",
       "      <td>...</td>\n",
       "      <td>...</td>\n",
       "      <td>...</td>\n",
       "      <td>...</td>\n",
       "    </tr>\n",
       "    <tr>\n",
       "      <th>995</th>\n",
       "      <td>RU</td>\n",
       "      <td>33</td>\n",
       "      <td>Android</td>\n",
       "      <td>1513267177504</td>\n",
       "      <td>1586045138765</td>\n",
       "      <td>6341315prod-eu</td>\n",
       "    </tr>\n",
       "    <tr>\n",
       "      <th>996</th>\n",
       "      <td>IN</td>\n",
       "      <td>22</td>\n",
       "      <td>Android</td>\n",
       "      <td>1520572103159</td>\n",
       "      <td>1586046439435</td>\n",
       "      <td>6435529prod-in</td>\n",
       "    </tr>\n",
       "    <tr>\n",
       "      <th>997</th>\n",
       "      <td>PH</td>\n",
       "      <td>33</td>\n",
       "      <td>Android</td>\n",
       "      <td>1522947532060</td>\n",
       "      <td>1586045640689</td>\n",
       "      <td>7162127prod-in</td>\n",
       "    </tr>\n",
       "    <tr>\n",
       "      <th>998</th>\n",
       "      <td>CN</td>\n",
       "      <td>33</td>\n",
       "      <td>iOS</td>\n",
       "      <td>1557976508308</td>\n",
       "      <td>1586047020945</td>\n",
       "      <td>7167775prod-as</td>\n",
       "    </tr>\n",
       "    <tr>\n",
       "      <th>999</th>\n",
       "      <td>CN</td>\n",
       "      <td>4</td>\n",
       "      <td>Android</td>\n",
       "      <td>1560944435660</td>\n",
       "      <td>1586074650969</td>\n",
       "      <td>7501643prod-as</td>\n",
       "    </tr>\n",
       "  </tbody>\n",
       "</table>\n",
       "<p>1000 rows × 6 columns</p>\n",
       "</div>"
      ],
      "text/plain": [
       "    country  pl      plf            reg             ts             user\n",
       "0        IT  33  Android  1511191920859  1586044805457   1122239prod-eu\n",
       "1        IN  33  Android  1509074590554  1586045807421    147065prod-us\n",
       "2        TR  33      iOS  1575420775882  1586047059117  25564086prod-eu\n",
       "3        HK  12  Android  1584406076183  1586045087568  10123050prod-as\n",
       "4        CN  21  Android  1581887511291  1586046421744   9893956prod-as\n",
       "..      ...  ..      ...            ...            ...              ...\n",
       "995      RU  33  Android  1513267177504  1586045138765   6341315prod-eu\n",
       "996      IN  22  Android  1520572103159  1586046439435   6435529prod-in\n",
       "997      PH  33  Android  1522947532060  1586045640689   7162127prod-in\n",
       "998      CN  33      iOS  1557976508308  1586047020945   7167775prod-as\n",
       "999      CN   4  Android  1560944435660  1586074650969   7501643prod-as\n",
       "\n",
       "[1000 rows x 6 columns]"
      ]
     },
     "execution_count": 873,
     "metadata": {},
     "output_type": "execute_result"
    }
   ],
   "source": [
    "df"
   ]
  },
  {
   "cell_type": "markdown",
   "id": "856cc87c",
   "metadata": {},
   "source": [
    "#### 1. Для каждой платформы определите топ 5 стран по количеству игроков."
   ]
  },
  {
   "cell_type": "code",
   "execution_count": 874,
   "id": "17034dd1",
   "metadata": {},
   "outputs": [],
   "source": [
    "top_5_countries = df.groupby(['plf', 'country']) \\\n",
    "                    .agg({'user': 'count'}) \\\n",
    "                    .rename(columns={'user': 'number_of_users'}) \\\n",
    "                    .sort_values(['plf', 'number_of_users'], ascending=False)"
   ]
  },
  {
   "cell_type": "code",
   "execution_count": 875,
   "id": "9791985a",
   "metadata": {},
   "outputs": [
    {
     "data": {
      "text/html": [
       "<div>\n",
       "<style scoped>\n",
       "    .dataframe tbody tr th:only-of-type {\n",
       "        vertical-align: middle;\n",
       "    }\n",
       "\n",
       "    .dataframe tbody tr th {\n",
       "        vertical-align: top;\n",
       "    }\n",
       "\n",
       "    .dataframe thead th {\n",
       "        text-align: right;\n",
       "    }\n",
       "</style>\n",
       "<table border=\"1\" class=\"dataframe\">\n",
       "  <thead>\n",
       "    <tr style=\"text-align: right;\">\n",
       "      <th></th>\n",
       "      <th></th>\n",
       "      <th>number_of_users</th>\n",
       "    </tr>\n",
       "    <tr>\n",
       "      <th>plf</th>\n",
       "      <th>country</th>\n",
       "      <th></th>\n",
       "    </tr>\n",
       "  </thead>\n",
       "  <tbody>\n",
       "    <tr>\n",
       "      <th rowspan=\"5\" valign=\"top\">iOS</th>\n",
       "      <th>CN</th>\n",
       "      <td>122</td>\n",
       "    </tr>\n",
       "    <tr>\n",
       "      <th>VN</th>\n",
       "      <td>18</td>\n",
       "    </tr>\n",
       "    <tr>\n",
       "      <th>US</th>\n",
       "      <td>14</td>\n",
       "    </tr>\n",
       "    <tr>\n",
       "      <th>RU</th>\n",
       "      <td>12</td>\n",
       "    </tr>\n",
       "    <tr>\n",
       "      <th>IN</th>\n",
       "      <td>11</td>\n",
       "    </tr>\n",
       "    <tr>\n",
       "      <th rowspan=\"5\" valign=\"top\">Samsung</th>\n",
       "      <th>EG</th>\n",
       "      <td>3</td>\n",
       "    </tr>\n",
       "    <tr>\n",
       "      <th>BR</th>\n",
       "      <td>1</td>\n",
       "    </tr>\n",
       "    <tr>\n",
       "      <th>CR</th>\n",
       "      <td>1</td>\n",
       "    </tr>\n",
       "    <tr>\n",
       "      <th>IL</th>\n",
       "      <td>1</td>\n",
       "    </tr>\n",
       "    <tr>\n",
       "      <th>IN</th>\n",
       "      <td>1</td>\n",
       "    </tr>\n",
       "    <tr>\n",
       "      <th rowspan=\"5\" valign=\"top\">Android</th>\n",
       "      <th>IN</th>\n",
       "      <td>151</td>\n",
       "    </tr>\n",
       "    <tr>\n",
       "      <th>RU</th>\n",
       "      <td>59</td>\n",
       "    </tr>\n",
       "    <tr>\n",
       "      <th>CN</th>\n",
       "      <td>58</td>\n",
       "    </tr>\n",
       "    <tr>\n",
       "      <th>ID</th>\n",
       "      <td>36</td>\n",
       "    </tr>\n",
       "    <tr>\n",
       "      <th>PH</th>\n",
       "      <td>30</td>\n",
       "    </tr>\n",
       "    <tr>\n",
       "      <th rowspan=\"2\" valign=\"top\">Amazon</th>\n",
       "      <th>CI</th>\n",
       "      <td>1</td>\n",
       "    </tr>\n",
       "    <tr>\n",
       "      <th>US</th>\n",
       "      <td>1</td>\n",
       "    </tr>\n",
       "  </tbody>\n",
       "</table>\n",
       "</div>"
      ],
      "text/plain": [
       "                 number_of_users\n",
       "plf     country                 \n",
       "iOS     CN                   122\n",
       "        VN                    18\n",
       "        US                    14\n",
       "        RU                    12\n",
       "        IN                    11\n",
       "Samsung EG                     3\n",
       "        BR                     1\n",
       "        CR                     1\n",
       "        IL                     1\n",
       "        IN                     1\n",
       "Android IN                   151\n",
       "        RU                    59\n",
       "        CN                    58\n",
       "        ID                    36\n",
       "        PH                    30\n",
       "Amazon  CI                     1\n",
       "        US                     1"
      ]
     },
     "execution_count": 875,
     "metadata": {},
     "output_type": "execute_result"
    }
   ],
   "source": [
    "top_5_countries.reset_index()\n",
    "top_5_countries.groupby('plf').head()"
   ]
  },
  {
   "cell_type": "markdown",
   "id": "6caeb25d",
   "metadata": {},
   "source": [
    "#### Вывод:\n",
    "- Самые популярные платформы - Android и iOS. \n",
    "- Наибольшее количество игроков находится в странах: Китай, Индия, Россия, Индонезия, США. В целом результат корреллирует с данными о численности населения.\n",
    "- Предположу, что большое число игроков из России обусловлено созданием интерфейса на русском языке.\n"
   ]
  },
  {
   "cell_type": "markdown",
   "id": "28cf5b91",
   "metadata": {},
   "source": [
    "#### 2. Какой максимальный lifetime у игроков в игре?"
   ]
  },
  {
   "cell_type": "code",
   "execution_count": 876,
   "id": "853f30b1",
   "metadata": {},
   "outputs": [],
   "source": [
    "df['lifetime_days'] = ((df.ts - df.reg) / 86400000).round(0)"
   ]
  },
  {
   "cell_type": "code",
   "execution_count": 877,
   "id": "b8221ffb",
   "metadata": {
    "scrolled": true
   },
   "outputs": [],
   "source": [
    "lifetime = df.sort_values('lifetime_days', ascending=False)"
   ]
  },
  {
   "cell_type": "code",
   "execution_count": 878,
   "id": "86e764ef",
   "metadata": {
    "scrolled": false
   },
   "outputs": [],
   "source": [
    "lifetime = lifetime.groupby('lifetime_days', as_index=False) \\\n",
    "                   .agg({'user': 'count'}) \\\n",
    "                   .rename(columns={'user': 'number_of_users'}) \\\n",
    "                   .sort_values('lifetime_days', ascending=False)"
   ]
  },
  {
   "cell_type": "code",
   "execution_count": 879,
   "id": "aaebdd56",
   "metadata": {},
   "outputs": [
    {
     "data": {
      "text/html": [
       "<div>\n",
       "<style scoped>\n",
       "    .dataframe tbody tr th:only-of-type {\n",
       "        vertical-align: middle;\n",
       "    }\n",
       "\n",
       "    .dataframe tbody tr th {\n",
       "        vertical-align: top;\n",
       "    }\n",
       "\n",
       "    .dataframe thead th {\n",
       "        text-align: right;\n",
       "    }\n",
       "</style>\n",
       "<table border=\"1\" class=\"dataframe\">\n",
       "  <thead>\n",
       "    <tr style=\"text-align: right;\">\n",
       "      <th></th>\n",
       "      <th>lifetime_days</th>\n",
       "      <th>number_of_users</th>\n",
       "    </tr>\n",
       "  </thead>\n",
       "  <tbody>\n",
       "    <tr>\n",
       "      <th>334</th>\n",
       "      <td>891.0</td>\n",
       "      <td>1</td>\n",
       "    </tr>\n",
       "    <tr>\n",
       "      <th>333</th>\n",
       "      <td>890.0</td>\n",
       "      <td>1</td>\n",
       "    </tr>\n",
       "    <tr>\n",
       "      <th>332</th>\n",
       "      <td>871.0</td>\n",
       "      <td>1</td>\n",
       "    </tr>\n",
       "    <tr>\n",
       "      <th>331</th>\n",
       "      <td>870.0</td>\n",
       "      <td>1</td>\n",
       "    </tr>\n",
       "    <tr>\n",
       "      <th>330</th>\n",
       "      <td>869.0</td>\n",
       "      <td>5</td>\n",
       "    </tr>\n",
       "    <tr>\n",
       "      <th>...</th>\n",
       "      <td>...</td>\n",
       "      <td>...</td>\n",
       "    </tr>\n",
       "    <tr>\n",
       "      <th>4</th>\n",
       "      <td>4.0</td>\n",
       "      <td>19</td>\n",
       "    </tr>\n",
       "    <tr>\n",
       "      <th>3</th>\n",
       "      <td>3.0</td>\n",
       "      <td>34</td>\n",
       "    </tr>\n",
       "    <tr>\n",
       "      <th>2</th>\n",
       "      <td>2.0</td>\n",
       "      <td>36</td>\n",
       "    </tr>\n",
       "    <tr>\n",
       "      <th>1</th>\n",
       "      <td>1.0</td>\n",
       "      <td>81</td>\n",
       "    </tr>\n",
       "    <tr>\n",
       "      <th>0</th>\n",
       "      <td>0.0</td>\n",
       "      <td>103</td>\n",
       "    </tr>\n",
       "  </tbody>\n",
       "</table>\n",
       "<p>335 rows × 2 columns</p>\n",
       "</div>"
      ],
      "text/plain": [
       "     lifetime_days  number_of_users\n",
       "334          891.0                1\n",
       "333          890.0                1\n",
       "332          871.0                1\n",
       "331          870.0                1\n",
       "330          869.0                5\n",
       "..             ...              ...\n",
       "4              4.0               19\n",
       "3              3.0               34\n",
       "2              2.0               36\n",
       "1              1.0               81\n",
       "0              0.0              103\n",
       "\n",
       "[335 rows x 2 columns]"
      ]
     },
     "execution_count": 879,
     "metadata": {},
     "output_type": "execute_result"
    }
   ],
   "source": [
    "lifetime"
   ]
  },
  {
   "cell_type": "code",
   "execution_count": 880,
   "id": "9c71e474",
   "metadata": {},
   "outputs": [
    {
     "data": {
      "text/plain": [
       "<AxesSubplot:xlabel='lifetime_days', ylabel='number_of_users'>"
      ]
     },
     "execution_count": 880,
     "metadata": {},
     "output_type": "execute_result"
    },
    {
     "data": {
      "image/png": "[encoded data removed]",
      "text/plain": [
       "<Figure size 864x432 with 1 Axes>"
      ]
     },
     "metadata": {},
     "output_type": "display_data"
    }
   ],
   "source": [
    "sns.lineplot(x = 'lifetime_days', y = 'number_of_users', data=lifetime)"
   ]
  },
  {
   "cell_type": "markdown",
   "id": "9ff4d608",
   "metadata": {},
   "source": [
    "#### Вывод:\n",
    "- Максимальный lifetime у игроков не превышает 891 день. Можно предположить, что это те игроки, которые начали играть сразу после релиза.\n",
    "- Самый большой отток (Churn) происходит в первые дни."
   ]
  },
  {
   "cell_type": "markdown",
   "id": "c03bd3f2",
   "metadata": {},
   "source": [
    "#### 3. Какое количество игроков находится выше 20 уровня?"
   ]
  },
  {
   "cell_type": "code",
   "execution_count": 881,
   "id": "4228ec9e",
   "metadata": {},
   "outputs": [
    {
     "data": {
      "text/plain": [
       "250"
      ]
     },
     "execution_count": 881,
     "metadata": {},
     "output_type": "execute_result"
    }
   ],
   "source": [
    "df.query('pl > 20').shape[0]"
   ]
  },
  {
   "cell_type": "markdown",
   "id": "72046a6f",
   "metadata": {},
   "source": [
    "#### Вывод:\n",
    "В выборке 1000 игроков, ровно четверть выше 20 уровня"
   ]
  },
  {
   "cell_type": "markdown",
   "id": "6323a56f",
   "metadata": {},
   "source": [
    "#### 4. Посчитайте средний уровень игроков для каждой страны."
   ]
  },
  {
   "cell_type": "code",
   "execution_count": 888,
   "id": "0cd78e3e",
   "metadata": {},
   "outputs": [],
   "source": [
    "# Создадим список стран, в которых игроков 10 и больше. Остальные страны исключим из расчета.\n",
    "countries = df.groupby('country', as_index=False) \\\n",
    "              .agg({'user': 'count'}) \\\n",
    "              .query('user >= 10') \\\n",
    "              .sort_values('user', ascending=False)"
   ]
  },
  {
   "cell_type": "code",
   "execution_count": 889,
   "id": "de9c14af",
   "metadata": {},
   "outputs": [],
   "source": [
    "countries = countries.country.to_list()"
   ]
  },
  {
   "cell_type": "code",
   "execution_count": 890,
   "id": "17ae51f4",
   "metadata": {},
   "outputs": [],
   "source": [
    "mean_pl = df.groupby('country', as_index=False) \\\n",
    "            .agg({'pl': 'mean'}) \\\n",
    "            .rename(columns={'pl': 'mean_pl'}) \\\n",
    "            .round(1)"
   ]
  },
  {
   "cell_type": "code",
   "execution_count": 891,
   "id": "94c8884b",
   "metadata": {},
   "outputs": [],
   "source": [
    "mean_pl = mean_pl.loc[mean_pl['country'].isin(countries)] \\\n",
    "                 .sort_values('mean_pl', ascending=False)"
   ]
  },
  {
   "cell_type": "code",
   "execution_count": 892,
   "id": "5e8c6800",
   "metadata": {},
   "outputs": [
    {
     "data": {
      "text/html": [
       "<div>\n",
       "<style scoped>\n",
       "    .dataframe tbody tr th:only-of-type {\n",
       "        vertical-align: middle;\n",
       "    }\n",
       "\n",
       "    .dataframe tbody tr th {\n",
       "        vertical-align: top;\n",
       "    }\n",
       "\n",
       "    .dataframe thead th {\n",
       "        text-align: right;\n",
       "    }\n",
       "</style>\n",
       "<table border=\"1\" class=\"dataframe\">\n",
       "  <thead>\n",
       "    <tr style=\"text-align: right;\">\n",
       "      <th></th>\n",
       "      <th>country</th>\n",
       "      <th>mean_pl</th>\n",
       "    </tr>\n",
       "  </thead>\n",
       "  <tbody>\n",
       "    <tr>\n",
       "      <th>35</th>\n",
       "      <td>HK</td>\n",
       "      <td>20.4</td>\n",
       "    </tr>\n",
       "    <tr>\n",
       "      <th>23</th>\n",
       "      <td>DE</td>\n",
       "      <td>20.1</td>\n",
       "    </tr>\n",
       "    <tr>\n",
       "      <th>97</th>\n",
       "      <td>VN</td>\n",
       "      <td>17.0</td>\n",
       "    </tr>\n",
       "    <tr>\n",
       "      <th>85</th>\n",
       "      <td>TH</td>\n",
       "      <td>15.0</td>\n",
       "    </tr>\n",
       "    <tr>\n",
       "      <th>19</th>\n",
       "      <td>CN</td>\n",
       "      <td>14.8</td>\n",
       "    </tr>\n",
       "    <tr>\n",
       "      <th>61</th>\n",
       "      <td>MY</td>\n",
       "      <td>14.7</td>\n",
       "    </tr>\n",
       "    <tr>\n",
       "      <th>89</th>\n",
       "      <td>TR</td>\n",
       "      <td>14.7</td>\n",
       "    </tr>\n",
       "    <tr>\n",
       "      <th>78</th>\n",
       "      <td>RU</td>\n",
       "      <td>14.1</td>\n",
       "    </tr>\n",
       "    <tr>\n",
       "      <th>96</th>\n",
       "      <td>UZ</td>\n",
       "      <td>13.5</td>\n",
       "    </tr>\n",
       "    <tr>\n",
       "      <th>37</th>\n",
       "      <td>ID</td>\n",
       "      <td>13.3</td>\n",
       "    </tr>\n",
       "    <tr>\n",
       "      <th>95</th>\n",
       "      <td>US</td>\n",
       "      <td>13.1</td>\n",
       "    </tr>\n",
       "    <tr>\n",
       "      <th>93</th>\n",
       "      <td>UA</td>\n",
       "      <td>13.0</td>\n",
       "    </tr>\n",
       "    <tr>\n",
       "      <th>13</th>\n",
       "      <td>BR</td>\n",
       "      <td>12.8</td>\n",
       "    </tr>\n",
       "    <tr>\n",
       "      <th>71</th>\n",
       "      <td>PH</td>\n",
       "      <td>11.8</td>\n",
       "    </tr>\n",
       "    <tr>\n",
       "      <th>42</th>\n",
       "      <td>IR</td>\n",
       "      <td>11.1</td>\n",
       "    </tr>\n",
       "    <tr>\n",
       "      <th>51</th>\n",
       "      <td>KZ</td>\n",
       "      <td>11.1</td>\n",
       "    </tr>\n",
       "    <tr>\n",
       "      <th>40</th>\n",
       "      <td>IN</td>\n",
       "      <td>10.9</td>\n",
       "    </tr>\n",
       "    <tr>\n",
       "      <th>64</th>\n",
       "      <td>NG</td>\n",
       "      <td>9.2</td>\n",
       "    </tr>\n",
       "    <tr>\n",
       "      <th>26</th>\n",
       "      <td>EG</td>\n",
       "      <td>9.1</td>\n",
       "    </tr>\n",
       "    <tr>\n",
       "      <th>9</th>\n",
       "      <td>BD</td>\n",
       "      <td>8.8</td>\n",
       "    </tr>\n",
       "    <tr>\n",
       "      <th>53</th>\n",
       "      <td>LK</td>\n",
       "      <td>7.4</td>\n",
       "    </tr>\n",
       "  </tbody>\n",
       "</table>\n",
       "</div>"
      ],
      "text/plain": [
       "   country  mean_pl\n",
       "35      HK     20.4\n",
       "23      DE     20.1\n",
       "97      VN     17.0\n",
       "85      TH     15.0\n",
       "19      CN     14.8\n",
       "61      MY     14.7\n",
       "89      TR     14.7\n",
       "78      RU     14.1\n",
       "96      UZ     13.5\n",
       "37      ID     13.3\n",
       "95      US     13.1\n",
       "93      UA     13.0\n",
       "13      BR     12.8\n",
       "71      PH     11.8\n",
       "42      IR     11.1\n",
       "51      KZ     11.1\n",
       "40      IN     10.9\n",
       "64      NG      9.2\n",
       "26      EG      9.1\n",
       "9       BD      8.8\n",
       "53      LK      7.4"
      ]
     },
     "execution_count": 892,
     "metadata": {},
     "output_type": "execute_result"
    }
   ],
   "source": [
    "mean_pl"
   ]
  },
  {
   "cell_type": "code",
   "execution_count": 894,
   "id": "65d817a5",
   "metadata": {
    "scrolled": false
   },
   "outputs": [
    {
     "data": {
      "text/plain": [
       "<AxesSubplot:xlabel='country', ylabel='mean_pl'>"
      ]
     },
     "execution_count": 894,
     "metadata": {},
     "output_type": "execute_result"
    },
    {
     "data": {
      "image/png": "[encoded data removed]",
      "text/plain": [
       "<Figure size 864x432 with 1 Axes>"
      ]
     },
     "metadata": {},
     "output_type": "display_data"
    }
   ],
   "source": [
    "sns.barplot(x = 'country', y = 'mean_pl', data=mean_pl)"
   ]
  },
  {
   "cell_type": "code",
   "execution_count": 895,
   "id": "a6f23b70",
   "metadata": {},
   "outputs": [
    {
     "data": {
      "text/html": [
       "<div>\n",
       "<style scoped>\n",
       "    .dataframe tbody tr th:only-of-type {\n",
       "        vertical-align: middle;\n",
       "    }\n",
       "\n",
       "    .dataframe tbody tr th {\n",
       "        vertical-align: top;\n",
       "    }\n",
       "\n",
       "    .dataframe thead th {\n",
       "        text-align: right;\n",
       "    }\n",
       "</style>\n",
       "<table border=\"1\" class=\"dataframe\">\n",
       "  <thead>\n",
       "    <tr style=\"text-align: right;\">\n",
       "      <th></th>\n",
       "      <th>mean_pl</th>\n",
       "    </tr>\n",
       "  </thead>\n",
       "  <tbody>\n",
       "    <tr>\n",
       "      <th>count</th>\n",
       "      <td>21.000000</td>\n",
       "    </tr>\n",
       "    <tr>\n",
       "      <th>mean</th>\n",
       "      <td>13.138095</td>\n",
       "    </tr>\n",
       "    <tr>\n",
       "      <th>std</th>\n",
       "      <td>3.369789</td>\n",
       "    </tr>\n",
       "    <tr>\n",
       "      <th>min</th>\n",
       "      <td>7.400000</td>\n",
       "    </tr>\n",
       "    <tr>\n",
       "      <th>25%</th>\n",
       "      <td>11.100000</td>\n",
       "    </tr>\n",
       "    <tr>\n",
       "      <th>50%</th>\n",
       "      <td>13.100000</td>\n",
       "    </tr>\n",
       "    <tr>\n",
       "      <th>75%</th>\n",
       "      <td>14.700000</td>\n",
       "    </tr>\n",
       "    <tr>\n",
       "      <th>max</th>\n",
       "      <td>20.400000</td>\n",
       "    </tr>\n",
       "  </tbody>\n",
       "</table>\n",
       "</div>"
      ],
      "text/plain": [
       "         mean_pl\n",
       "count  21.000000\n",
       "mean   13.138095\n",
       "std     3.369789\n",
       "min     7.400000\n",
       "25%    11.100000\n",
       "50%    13.100000\n",
       "75%    14.700000\n",
       "max    20.400000"
      ]
     },
     "execution_count": 895,
     "metadata": {},
     "output_type": "execute_result"
    }
   ],
   "source": [
    "mean_pl.describe()"
   ]
  },
  {
   "cell_type": "markdown",
   "id": "6c192d79",
   "metadata": {},
   "source": [
    "#### Вывод:\n",
    "- При расчете среднего уровня мы не учитываем страны, в которых игроков меньше 10, чтобы не допустить выбросов. После исключения осталась 21 страна.\n",
    "- Средний уровень по всем странам - 13.1. Минимальный - у Шри-Ланки (7.4), максимальный - у Гонконга (20.4)"
   ]
  },
  {
   "cell_type": "markdown",
   "id": "5d89ce01",
   "metadata": {},
   "source": [
    "### Задание 2\n",
    "Вы попали на аналитическую конференцию. В ней приняли участие 80 специалистов: 40 продуктовых аналитиков и 40 ML-инженеров. 30 продуктовых аналитиков и 20 ML-инженеров пойдут на лекцию, посвященную архитектуре баз данных. Известно, что случайно выбранный продуктовый аналитик пойдет на лекцию по архитектуре баз данных с вероятностью 75%. Какова вероятность того, что случайно выбранный посетитель лекции, посвященной архитектуре баз данных, окажется ML-инженером? \n",
    "\n",
    "#### Решение:\n",
    "Применим формулу p = n/m, где  \n",
    "m = 30 + 20 = 50 - всего посетителей лекции по архитектуре БД  \n",
    "n = 20 - количество ML-инженеров, посетивших лекцию  \n",
    "p = 20/50 = 0.4 или 40%\n",
    "\n",
    "#### Ответ: \n",
    "40 % - вероятность того, что случайно выбранный посетитель лекции, посвященной архитектуре баз данных, окажется ML-инженером\n"
   ]
  },
  {
   "cell_type": "markdown",
   "id": "95079fd5",
   "metadata": {},
   "source": [
    "### Задание 3\n",
    "Есть поверье, что если спортсмен побывал на обложке  “Sports illustrated”, то вскоре после этого с этим спортсменом случается спортивная неудача или снижение спортивного результата. Одной жертвой “проклятья”  в 2000 году стал русский гимнаст Иван Иванков, которого назвали лучшим спорстменом мира, после чего он не смог даже отобраться на летние Олимпийские игры.\n",
    "Действительно “Sports illustrated” является носителем проклятья или это можно объяснить каким-либо феноменом?\n",
    "\n",
    "#### Ответ:\n",
    "\n",
    "Обычно спортсмены появляются на обложке “Sports illustrated” после того как добъются выдающихся успехов. Пройдя пик физической формы, их результаты становятся ближе к средним. Это явление называется возвратом к среднему или регрессией к среднему. Т.е. если наблюдение является экстремальным, то будущие наблюдения будут ближе к долгосрочному среднему значению.\n"
   ]
  },
  {
   "cell_type": "code",
   "execution_count": null,
   "id": "0fb5b244",
   "metadata": {},
   "outputs": [],
   "source": []
  }
 ],
 "metadata": {
  "kernelspec": {
   "display_name": "Python 3",
   "language": "python",
   "name": "python3"
  },
  "language_info": {
   "codemirror_mode": {
    "name": "ipython",
    "version": 3
   },
   "file_extension": ".py",
   "mimetype": "text/x-python",
   "name": "python",
   "nbconvert_exporter": "python",
   "pygments_lexer": "ipython3",
   "version": "3.8.8"
  }
 },
 "nbformat": 4,
 "nbformat_minor": 5
}
